{
 "cells": [
  {
   "cell_type": "markdown",
   "metadata": {},
   "source": [
    "# Decorators\n",
    "\n",
    "## Material\n",
    "\n",
    "http://www.artima.com/weblogs/viewpost.jsp?thread=240808\n",
    "\n",
    "http://simeonfranklin.com/blog/2012/jul/1/python-decorators-in-12-steps/\n",
    "\n",
    "http://thecodeship.com/patterns/guide-to-python-function-decorators/\n",
    "\n",
    "## Basic facts\n",
    "\n",
    "Decorators are basically syntax sugar, which allows encapsulating a function (or an object) withing another function or object which returns it. For example:"
   ]
  },
  {
   "cell_type": "code",
   "execution_count": 1,
   "metadata": {
    "collapsed": false
   },
   "outputs": [
    {
     "name": "stdout",
     "output_type": "stream",
     "text": [
      "before some_func\n"
     ]
    },
    {
     "data": {
      "text/plain": [
       "2"
      ]
     },
     "execution_count": 1,
     "metadata": {},
     "output_type": "execute_result"
    }
   ],
   "source": [
    "def outer(some_func):\n",
    "    def inner():\n",
    "        print \"before some_func\"\n",
    "        ret = some_func() # 1\n",
    "        return ret + 1\n",
    "    return inner\n",
    "\n",
    "def foo():\n",
    "    return 1\n",
    "\n",
    "decorated = outer(foo) # 2\n",
    "decorated()"
   ]
  },
  {
   "cell_type": "markdown",
   "metadata": {},
   "source": [
    "the last 4 lines can be written as:"
   ]
  },
  {
   "cell_type": "code",
   "execution_count": 2,
   "metadata": {
    "collapsed": false
   },
   "outputs": [
    {
     "name": "stdout",
     "output_type": "stream",
     "text": [
      "before some_func\n"
     ]
    },
    {
     "data": {
      "text/plain": [
       "2"
      ]
     },
     "execution_count": 2,
     "metadata": {},
     "output_type": "execute_result"
    }
   ],
   "source": [
    "@outer\n",
    "def foo2():\n",
    "    return 1\n",
    "\n",
    "foo2()\n"
   ]
  },
  {
   "cell_type": "markdown",
   "metadata": {},
   "source": [
    "Definition of a `class` decorator is pretty straightforward: the function is passed to `__init__`, and the arguments to `__call__`:"
   ]
  },
  {
   "cell_type": "code",
   "execution_count": 50,
   "metadata": {
    "collapsed": false
   },
   "outputs": [
    {
     "name": "stdout",
     "output_type": "stream",
     "text": [
      "Entering func1\n",
      "inside func1()\n",
      "1\n",
      "Exited func1\n",
      "Entering func2\n",
      "inside func2()\n",
      "2\n",
      "Exited func2\n"
     ]
    }
   ],
   "source": [
    "class entryExit(object):\n",
    "\n",
    "    def __init__(self, f):\n",
    "        self.f = f\n",
    "\n",
    "    def __call__(self, *args):\n",
    "        print \"Entering\", self.f.__name__\n",
    "        self.f(*args)\n",
    "        print \"Exited\", self.f.__name__\n",
    "\n",
    "@entryExit\n",
    "def func1(x):\n",
    "    print \"inside func1()\"\n",
    "    print x\n",
    "\n",
    "@entryExit\n",
    "def func2(x):\n",
    "    print \"inside func2()\"\n",
    "    print x\n",
    "\n",
    "func1(1)\n",
    "func2(2)"
   ]
  },
  {
   "cell_type": "markdown",
   "metadata": {},
   "source": [
    "NB: you won't be automatically maintain the function's name!"
   ]
  },
  {
   "cell_type": "code",
   "execution_count": 51,
   "metadata": {
    "collapsed": false
   },
   "outputs": [
    {
     "name": "stdout",
     "output_type": "stream",
     "text": [
      "['__call__', '__class__', '__delattr__', '__dict__', '__doc__', '__format__', '__getattribute__', '__hash__', '__init__', '__module__', '__new__', '__reduce__', '__reduce_ex__', '__repr__', '__setattr__', '__sizeof__', '__str__', '__subclasshook__', '__weakref__', 'f']\n",
      "func1\n"
     ]
    }
   ],
   "source": [
    "a = func1\n",
    "print dir(a)\n",
    "print a.f.__name__\n"
   ]
  },
  {
   "cell_type": "markdown",
   "metadata": {},
   "source": [
    "Using a decorator with arguments on a `class` is less straightforward... in this case, the arguments of the decorator are passed to `__init__`, while the function to `__call__`, that must wrap and return it:"
   ]
  },
  {
   "cell_type": "code",
   "execution_count": 52,
   "metadata": {
    "collapsed": false
   },
   "outputs": [
    {
     "name": "stdout",
     "output_type": "stream",
     "text": [
      "Entering fool\n",
      "I'm fool  test\n",
      "1\n",
      "Exited fool\n"
     ]
    }
   ],
   "source": [
    "class Wrapper(object):\n",
    "\n",
    "    def __init__(self, a):\n",
    "        self.a = a\n",
    "\n",
    "    def __call__(self, f):\n",
    "        def wrapped_f(*args):\n",
    "            self.f = f\n",
    "            print \"Entering\", self.f.__name__\n",
    "            self.f(*args)\n",
    "            print self.a\n",
    "            print \"Exited\", self.f.__name__\n",
    "        return wrapped_f\n",
    "    \n",
    "@Wrapper(1)\n",
    "def fool(x):\n",
    "    print \"I'm a fool \", x\n",
    "    \n",
    "fool(\"test\")"
   ]
  },
  {
   "cell_type": "code",
   "execution_count": 47,
   "metadata": {
    "collapsed": false
   },
   "outputs": [
    {
     "name": "stdout",
     "output_type": "stream",
     "text": [
      "Entering fool\n",
      "I'm fool  test\n",
      "1\n",
      "Exited fool\n"
     ]
    }
   ],
   "source": []
  }
 ],
 "metadata": {
  "kernelspec": {
   "display_name": "Python 2",
   "language": "python",
   "name": "python2"
  },
  "language_info": {
   "codemirror_mode": {
    "name": "ipython",
    "version": 2
   },
   "file_extension": ".py",
   "mimetype": "text/x-python",
   "name": "python",
   "nbconvert_exporter": "python",
   "pygments_lexer": "ipython2",
   "version": "2.7.11"
  }
 },
 "nbformat": 4,
 "nbformat_minor": 0
}
